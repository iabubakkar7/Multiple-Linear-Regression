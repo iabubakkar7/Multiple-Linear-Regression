{
 "cells": [
  {
   "cell_type": "markdown",
   "metadata": {
    "id": "fTWtrfScZwbf"
   },
   "source": [
    "# Multiple Linear Regression"
   ]
  },
  {
   "cell_type": "markdown",
   "metadata": {
    "id": "4AlZCLhWZ4w-"
   },
   "source": [
    "# Import libraries"
   ]
  },
  {
   "cell_type": "code",
   "execution_count": 19,
   "metadata": {
    "id": "_P8h7ErWyeLE"
   },
   "outputs": [],
   "source": [
    "# Import libraries\n",
    "import pandas as pd\n",
    "import numpy as np\n",
    "import matplotlib.pyplot as plt\n",
    "import seaborn as sns\n",
    "from sklearn.model_selection import train_test_split\n",
    "from sklearn.compose import ColumnTransformer\n",
    "from sklearn.preprocessing import OneHotEncoder\n",
    "from sklearn.linear_model import LinearRegression"
   ]
  },
  {
   "cell_type": "markdown",
   "metadata": {
    "id": "8HLen-nYZ6jd"
   },
   "source": [
    "# Import data"
   ]
  },
  {
   "cell_type": "code",
   "execution_count": 22,
   "metadata": {
    "colab": {
     "base_uri": "https://localhost:8080/",
     "height": 204
    },
    "id": "buVxXu9Ay_gB",
    "outputId": "0f96911f-a810-4b51-f6ba-db594f3af444"
   },
   "outputs": [
    {
     "data": {
      "text/html": [
       "<div>\n",
       "<style scoped>\n",
       "    .dataframe tbody tr th:only-of-type {\n",
       "        vertical-align: middle;\n",
       "    }\n",
       "\n",
       "    .dataframe tbody tr th {\n",
       "        vertical-align: top;\n",
       "    }\n",
       "\n",
       "    .dataframe thead th {\n",
       "        text-align: right;\n",
       "    }\n",
       "</style>\n",
       "<table border=\"1\" class=\"dataframe\">\n",
       "  <thead>\n",
       "    <tr style=\"text-align: right;\">\n",
       "      <th></th>\n",
       "      <th>R&amp;D Spend</th>\n",
       "      <th>Administration</th>\n",
       "      <th>Marketing Spend</th>\n",
       "      <th>State</th>\n",
       "      <th>Profit</th>\n",
       "    </tr>\n",
       "  </thead>\n",
       "  <tbody>\n",
       "    <tr>\n",
       "      <th>0</th>\n",
       "      <td>54.881350</td>\n",
       "      <td>31.038083</td>\n",
       "      <td>59.288027</td>\n",
       "      <td>California</td>\n",
       "      <td>681.550173</td>\n",
       "    </tr>\n",
       "    <tr>\n",
       "      <th>1</th>\n",
       "      <td>71.518937</td>\n",
       "      <td>37.303486</td>\n",
       "      <td>1.006370</td>\n",
       "      <td>California</td>\n",
       "      <td>431.397862</td>\n",
       "    </tr>\n",
       "    <tr>\n",
       "      <th>2</th>\n",
       "      <td>60.276338</td>\n",
       "      <td>52.497044</td>\n",
       "      <td>47.582620</td>\n",
       "      <td>New York</td>\n",
       "      <td>602.272225</td>\n",
       "    </tr>\n",
       "    <tr>\n",
       "      <th>3</th>\n",
       "      <td>54.488318</td>\n",
       "      <td>75.059502</td>\n",
       "      <td>70.877039</td>\n",
       "      <td>Florida</td>\n",
       "      <td>868.697823</td>\n",
       "    </tr>\n",
       "    <tr>\n",
       "      <th>4</th>\n",
       "      <td>42.365480</td>\n",
       "      <td>33.350747</td>\n",
       "      <td>4.397543</td>\n",
       "      <td>Florida</td>\n",
       "      <td>192.953524</td>\n",
       "    </tr>\n",
       "  </tbody>\n",
       "</table>\n",
       "</div>"
      ],
      "text/plain": [
       "   R&D Spend  Administration  Marketing Spend       State      Profit\n",
       "0  54.881350       31.038083        59.288027  California  681.550173\n",
       "1  71.518937       37.303486         1.006370  California  431.397862\n",
       "2  60.276338       52.497044        47.582620    New York  602.272225\n",
       "3  54.488318       75.059502        70.877039     Florida  868.697823\n",
       "4  42.365480       33.350747         4.397543     Florida  192.953524"
      ]
     },
     "execution_count": 22,
     "metadata": {},
     "output_type": "execute_result"
    }
   ],
   "source": [
    "# Get dataset\n",
    "#df_start = pd.read_csv('C:/Users/hassan/Desktop/EDA - ML - DS7/50_Startups.csv')\n",
    "\n",
    "# Generate a synthetic dataset\n",
    "np.random.seed(0)\n",
    "n_samples = 500\n",
    "X1 = np.random.rand(n_samples) * 100  # Feature 1: R&D Spend\n",
    "X2 = np.random.rand(n_samples) * 100  # Feature 2: Administration\n",
    "X3 = np.random.rand(n_samples) * 100  # Feature 3: Marketing Spend\n",
    "X4 = np.random.choice(['New York', 'California', 'Florida'], n_samples)  # Feature 4: State\n",
    "y = 5 * X1 + 3 * X2 + 4 * X3 + np.random.randn(n_samples) * 100  # Target variable: Profit\n",
    "\n",
    "# Create a DataFrame\n",
    "df_start = pd.DataFrame({'R&D Spend': X1, 'Administration': X2, 'Marketing Spend': X3, 'State': X4, 'Profit': y})\n",
    "\n",
    "df_start.head()"
   ]
  },
  {
   "cell_type": "code",
   "execution_count": 23,
   "metadata": {},
   "outputs": [
    {
     "name": "stdout",
     "output_type": "stream",
     "text": [
      "<class 'pandas.core.frame.DataFrame'>\n",
      "RangeIndex: 500 entries, 0 to 499\n",
      "Data columns (total 5 columns):\n",
      " #   Column           Non-Null Count  Dtype  \n",
      "---  ------           --------------  -----  \n",
      " 0   R&D Spend        500 non-null    float64\n",
      " 1   Administration   500 non-null    float64\n",
      " 2   Marketing Spend  500 non-null    float64\n",
      " 3   State            500 non-null    object \n",
      " 4   Profit           500 non-null    float64\n",
      "dtypes: float64(4), object(1)\n",
      "memory usage: 19.7+ KB\n"
     ]
    }
   ],
   "source": [
    "df_start.info()"
   ]
  },
  {
   "cell_type": "markdown",
   "metadata": {
    "id": "4mVmCFfnZ-bZ"
   },
   "source": [
    "# Analyze data"
   ]
  },
  {
   "cell_type": "markdown",
   "metadata": {
    "id": "w3fHV-MzaDYO"
   },
   "source": [
    "## Describe"
   ]
  },
  {
   "cell_type": "code",
   "execution_count": 24,
   "metadata": {
    "colab": {
     "base_uri": "https://localhost:8080/",
     "height": 297
    },
    "id": "vfIL0dc_sKcW",
    "outputId": "02006e2d-c0a6-4d9b-962a-947138226ba1"
   },
   "outputs": [
    {
     "data": {
      "text/html": [
       "<div>\n",
       "<style scoped>\n",
       "    .dataframe tbody tr th:only-of-type {\n",
       "        vertical-align: middle;\n",
       "    }\n",
       "\n",
       "    .dataframe tbody tr th {\n",
       "        vertical-align: top;\n",
       "    }\n",
       "\n",
       "    .dataframe thead th {\n",
       "        text-align: right;\n",
       "    }\n",
       "</style>\n",
       "<table border=\"1\" class=\"dataframe\">\n",
       "  <thead>\n",
       "    <tr style=\"text-align: right;\">\n",
       "      <th></th>\n",
       "      <th>R&amp;D Spend</th>\n",
       "      <th>Administration</th>\n",
       "      <th>Marketing Spend</th>\n",
       "      <th>Profit</th>\n",
       "    </tr>\n",
       "  </thead>\n",
       "  <tbody>\n",
       "    <tr>\n",
       "      <th>count</th>\n",
       "      <td>500.000000</td>\n",
       "      <td>500.000000</td>\n",
       "      <td>500.000000</td>\n",
       "      <td>500.000000</td>\n",
       "    </tr>\n",
       "    <tr>\n",
       "      <th>mean</th>\n",
       "      <td>49.659764</td>\n",
       "      <td>49.524543</td>\n",
       "      <td>51.137825</td>\n",
       "      <td>599.473448</td>\n",
       "    </tr>\n",
       "    <tr>\n",
       "      <th>std</th>\n",
       "      <td>29.175642</td>\n",
       "      <td>29.001916</td>\n",
       "      <td>30.193272</td>\n",
       "      <td>229.460475</td>\n",
       "    </tr>\n",
       "    <tr>\n",
       "      <th>min</th>\n",
       "      <td>0.469548</td>\n",
       "      <td>0.054596</td>\n",
       "      <td>0.066422</td>\n",
       "      <td>16.949061</td>\n",
       "    </tr>\n",
       "    <tr>\n",
       "      <th>25%</th>\n",
       "      <td>24.782590</td>\n",
       "      <td>24.761346</td>\n",
       "      <td>26.442912</td>\n",
       "      <td>431.894750</td>\n",
       "    </tr>\n",
       "    <tr>\n",
       "      <th>50%</th>\n",
       "      <td>48.684194</td>\n",
       "      <td>47.972272</td>\n",
       "      <td>51.953567</td>\n",
       "      <td>600.341927</td>\n",
       "    </tr>\n",
       "    <tr>\n",
       "      <th>75%</th>\n",
       "      <td>73.074578</td>\n",
       "      <td>73.993732</td>\n",
       "      <td>77.572888</td>\n",
       "      <td>762.739530</td>\n",
       "    </tr>\n",
       "    <tr>\n",
       "      <th>max</th>\n",
       "      <td>99.884701</td>\n",
       "      <td>99.980858</td>\n",
       "      <td>99.802279</td>\n",
       "      <td>1236.856504</td>\n",
       "    </tr>\n",
       "  </tbody>\n",
       "</table>\n",
       "</div>"
      ],
      "text/plain": [
       "        R&D Spend  Administration  Marketing Spend       Profit\n",
       "count  500.000000      500.000000       500.000000   500.000000\n",
       "mean    49.659764       49.524543        51.137825   599.473448\n",
       "std     29.175642       29.001916        30.193272   229.460475\n",
       "min      0.469548        0.054596         0.066422    16.949061\n",
       "25%     24.782590       24.761346        26.442912   431.894750\n",
       "50%     48.684194       47.972272        51.953567   600.341927\n",
       "75%     73.074578       73.993732        77.572888   762.739530\n",
       "max     99.884701       99.980858        99.802279  1236.856504"
      ]
     },
     "execution_count": 24,
     "metadata": {},
     "output_type": "execute_result"
    }
   ],
   "source": [
    "# Describe data\n",
    "df_start.describe()"
   ]
  },
  {
   "cell_type": "markdown",
   "metadata": {
    "id": "Xzng6WUraNcj"
   },
   "source": [
    "## Distribution"
   ]
  },
  {
   "cell_type": "code",
   "execution_count": 25,
   "metadata": {
    "colab": {
     "base_uri": "https://localhost:8080/",
     "height": 349
    },
    "id": "3WfTdCLDsWNe",
    "outputId": "7a932eb0-324b-4c63-e539-79024b939750"
   },
   "outputs": [
    {
     "name": "stderr",
     "output_type": "stream",
     "text": [
      "C:\\Users\\hassan\\anaconda3\\lib\\site-packages\\seaborn\\distributions.py:2619: FutureWarning: `distplot` is a deprecated function and will be removed in a future version. Please adapt your code to use either `displot` (a figure-level function with similar flexibility) or `histplot` (an axes-level function for histograms).\n",
      "  warnings.warn(msg, FutureWarning)\n"
     ]
    },
    {
     "data": {
      "image/png": "[encoded data removed]",
      "text/plain": [
       "<Figure size 640x480 with 1 Axes>"
      ]
     },
     "metadata": {},
     "output_type": "display_data"
    }
   ],
   "source": [
    "# Data distribution\n",
    "plt.title('Profit Distribution Plot')\n",
    "sns.distplot(df_start['Profit'])\n",
    "plt.show()"
   ]
  },
  {
   "cell_type": "markdown",
   "metadata": {
    "id": "IUFIrNCVaFPJ"
   },
   "source": [
    "## Relationship between Profit and R&D Spend"
   ]
  },
  {
   "cell_type": "code",
   "execution_count": 26,
   "metadata": {
    "colab": {
     "base_uri": "https://localhost:8080/",
     "height": 295
    },
    "id": "DwV1WiUYzYhE",
    "outputId": "17468dcc-3f84-484d-cd84-3834cd876980"
   },
   "outputs": [
    {
     "data": {
      "image/png": "[encoded data removed]",
      "text/plain": [
       "<Figure size 640x480 with 1 Axes>"
      ]
     },
     "metadata": {},
     "output_type": "display_data"
    }
   ],
   "source": [
    "# Relationship between Profit and R&D Spend\n",
    "plt.scatter(df_start['R&D Spend'], df_start['Profit'], color = 'lightcoral')\n",
    "plt.title('Profit vs R&D Spend')\n",
    "plt.xlabel('R&D Spend')\n",
    "plt.ylabel('Profit')\n",
    "plt.box(False)\n",
    "plt.show()"
   ]
  },
  {
   "cell_type": "markdown",
   "metadata": {
    "id": "ihUOLdn1aJIU"
   },
   "source": [
    "# Split into Independent/Dependent variables"
   ]
  },
  {
   "cell_type": "code",
   "execution_count": 27,
   "metadata": {
    "id": "UNM5quZTqZpX"
   },
   "outputs": [],
   "source": [
    "# Split dataset in dependent/independent variables\n",
    "X = df_start.iloc[:, :-1].values\n",
    "y = df_start.iloc[:, -1].values"
   ]
  },
  {
   "cell_type": "code",
   "execution_count": 28,
   "metadata": {},
   "outputs": [
    {
     "data": {
      "text/plain": [
       "array([[54.88135039273247, 31.03808259798114, 59.28802707811576,\n",
       "        'California'],\n",
       "       [71.51893663724195, 37.303486388074745, 1.006369565609333,\n",
       "        'California'],\n",
       "       [60.276337607164386, 52.49704422542643, 47.58261958572228,\n",
       "        'New York'],\n",
       "       ...,\n",
       "       [40.17135353795987, 93.84120216943856, 11.224999258738599,\n",
       "        'Florida'],\n",
       "       [24.8413465082971, 22.864655098294552, 4.236404709144326,\n",
       "        'New York'],\n",
       "       [50.586638382530836, 67.71411441114242, 22.774099334728646,\n",
       "        'Florida']], dtype=object)"
      ]
     },
     "execution_count": 28,
     "metadata": {},
     "output_type": "execute_result"
    }
   ],
   "source": [
    "X"
   ]
  },
  {
   "cell_type": "code",
   "execution_count": 29,
   "metadata": {},
   "outputs": [
    {
     "data": {
      "text/plain": [
       "array([ 681.55,  431.4 ,  602.27,  868.7 ,  192.95, 1146.71,  637.5 ,\n",
       "        420.43,  749.81,  777.9 ,  905.3 ,  390.86,  609.03,  701.7 ,\n",
       "        197.4 ,  349.23,  222.49,  441.87,  993.47,  858.41,  466.53,\n",
       "        613.75,  435.28,  867.83,  482.64,  757.32,  429.54,  884.15,\n",
       "        714.7 ,  478.71,  217.21,  462.39,  858.88,  500.45,  222.56,\n",
       "        533.63,  532.92,  716.78,  805.3 ,  716.08,  277.96,  659.54,\n",
       "        794.36,  400.01,  719.86,  575.97,  629.25,  721.46,  201.32,\n",
       "        757.82,  809.42,  297.54,  839.57,  379.1 ,  675.93,  266.21,\n",
       "        519.28,  489.56,  605.77,  511.7 ,  409.81,  155.91,  800.59,\n",
       "        410.58,  391.09,  455.34,  604.6 ,  646.19, 1018.29,  477.11,\n",
       "        760.86,  655.4 ,  740.79,  466.31,  960.36,  122.23,  292.55,\n",
       "        683.55,  484.89,  557.37,  422.88,  729.9 ,  270.41,  682.32,\n",
       "        716.32,  495.68,  359.46,  350.28,  806.41, 1037.57,  791.  ,\n",
       "        631.15,  469.75,  796.84,  219.59,  742.18,  192.93,  669.93,\n",
       "        750.04,  492.5 ,  401.75,  593.69,  679.39,  819.12,  734.5 ,\n",
       "        685.77,  499.24,  438.91,  464.73,  781.77,  547.54,  591.63,\n",
       "        698.47,  379.95,  464.2 ,  275.45,  908.47,  526.27,  933.06,\n",
       "        963.43,  692.35,  798.6 , 1189.82,  570.31,  740.99, 1148.78,\n",
       "        636.87,  824.79,  471.45,  559.36,  163.09,  381.88,  421.42,\n",
       "        522.36,  650.98,  723.78,  673.27,  534.3 ,  472.88,  704.93,\n",
       "        920.05,  592.11,  693.17,  833.69,  645.85,  372.41,  325.93,\n",
       "        954.25,  739.37,  802.52,  190.84,  976.92,  275.69,  470.37,\n",
       "        704.19,  882.61,  692.72,  804.73,  376.28,  609.97,  711.94,\n",
       "        561.31,  725.4 ,  807.32,  536.97,  654.76,  428.63,  467.22,\n",
       "        894.09,  654.87,  584.98,  228.15,  377.69,  274.03,  876.47,\n",
       "        449.62,  733.07,  806.37,  762.19,  315.45,  388.01,  745.65,\n",
       "        625.81,  598.41,  630.93,  381.74,  664.72,  792.91,  988.4 ,\n",
       "        787.73,  878.38,  534.07,  252.41,  737.74,  703.11,  691.72,\n",
       "        526.28,  350.9 ,   99.85,  770.95,  253.23,  738.31,  611.42,\n",
       "        444.53,  239.35,  119.19,  483.92,  625.98,  453.47, 1015.61,\n",
       "        520.24,  455.69,  977.92,  510.12,  127.45,  533.71,  289.87,\n",
       "        353.12,  731.03, 1038.47, 1033.86, 1160.15,  470.13,  603.21,\n",
       "        506.21,  992.54,  728.09,  662.24,  764.54,  783.78,  220.33,\n",
       "        402.95,  430.84,  212.52,  298.67,  608.65,  501.55,  524.51,\n",
       "        121.46,  432.06,  504.02,  322.08,  662.47,  313.01,  859.64,\n",
       "        396.07,  815.38,  706.03,  605.86,  580.08,  603.6 ,  973.34,\n",
       "        919.25,  894.08,  602.9 ,  433.15,  471.17,  510.61,  947.61,\n",
       "        516.99,  622.08,  524.56,  357.45,  825.77,  817.34,  890.16,\n",
       "        804.62,  606.67,  685.16,  653.67,  865.35,  517.81,  446.35,\n",
       "        832.84,  534.13,  920.97,  962.48,  769.02,  768.46,  920.09,\n",
       "        594.68,  888.8 ,  580.4 ,  346.87,  329.83,  733.27,  736.44,\n",
       "        385.47,  421.75,  445.45,  603.87,  380.53,  767.58,  429.16,\n",
       "        773.64,  771.17,  441.95,  630.42,  895.3 ,  682.65,  816.01,\n",
       "        759.3 ,  307.4 ,  421.25,  801.93,  636.41,  501.66,  375.63,\n",
       "        989.62,  486.47,  608.03,  354.4 ,  354.73,  344.22,  588.29,\n",
       "        464.17,  534.83,  692.01,  953.42,  814.15,  552.04,  141.56,\n",
       "         77.05,  169.88,  679.05,  760.22,  724.59,  652.66,  460.39,\n",
       "        577.39,  440.39,  612.07,  542.65,  842.55, 1148.12,  862.47,\n",
       "        725.63,  596.14,  512.25,  411.72,  460.72,  353.9 ,  445.05,\n",
       "        557.39,  899.68,  430.99,  607.39,  262.99,  354.22,  725.08,\n",
       "        904.54,  340.56,  367.76,  929.3 ,  868.39,  444.79,  310.1 ,\n",
       "        376.42,  510.9 ,  863.8 ,  785.87,  947.27,  511.7 ,  548.68,\n",
       "        658.71,  733.89,  808.49,  517.52, 1131.54,  816.29,  770.07,\n",
       "        709.59,  937.33,  329.95,  255.64,  606.47,  562.4 ,  881.92,\n",
       "        701.87,  664.79,  842.09,  341.21, 1003.09,  885.36,  687.39,\n",
       "        760.32,  838.83,  471.93,  153.59,  697.84,  232.38,  395.92,\n",
       "        354.95, 1039.  ,  430.15,  877.32,  578.97,  705.23,  486.18,\n",
       "        542.  ,  522.24,  742.6 ,  275.55,  657.43, 1236.86, 1013.73,\n",
       "        203.86,  163.01,  552.88,  253.52,  321.5 ,  578.83,  434.91,\n",
       "        176.  ,  570.34,  247.54,  183.61,   16.95,  624.3 ,  603.05,\n",
       "        574.09,  610.73,  326.26,  451.5 ,  687.81,  565.4 ,  920.31,\n",
       "        298.29,  839.33,  591.2 ,  703.39,  396.05,  376.56,  376.24,\n",
       "        568.1 ,  677.02,  514.2 ,  466.94,  860.11,  718.14,  398.23,\n",
       "        363.81,  691.31,  565.18,  264.92,  408.12,  849.75,  874.97,\n",
       "        921.81,  882.32,  566.81, 1151.79,  532.66,  460.47,  682.74,\n",
       "        473.95,  702.31,  358.46, 1138.7 ,  875.41,  542.76,  726.45,\n",
       "        330.  ,  778.24,  459.15,  338.6 ,  575.08,  420.66,  764.37,\n",
       "        652.8 ,  472.1 ,  710.26,  847.86,  919.93,  825.55,  460.06,\n",
       "        743.73,  556.39,  872.03,  686.25,  430.53,  558.95,  353.3 ,\n",
       "        697.5 ,  655.83, 1006.93,  582.93, 1035.95,  532.89,  786.19,\n",
       "        252.58,  734.37,  488.71,  895.33,  854.72,  231.87,  474.73,\n",
       "        501.73,  378.33,  382.37])"
      ]
     },
     "execution_count": 29,
     "metadata": {},
     "output_type": "execute_result"
    }
   ],
   "source": [
    "y"
   ]
  },
  {
   "cell_type": "markdown",
   "metadata": {
    "id": "okoCkJKUawah"
   },
   "source": [
    "# One-hot encoding"
   ]
  },
  {
   "cell_type": "code",
   "execution_count": 30,
   "metadata": {
    "id": "nuG4sIkjq2TJ"
   },
   "outputs": [],
   "source": [
    "# One-hot encoding of categorical data\n",
    "ct = ColumnTransformer(transformers = [('encoder', OneHotEncoder(), [3])], remainder = 'passthrough')\n",
    "X = np.array(ct.fit_transform(X))"
   ]
  },
  {
   "cell_type": "code",
   "execution_count": 31,
   "metadata": {},
   "outputs": [
    {
     "data": {
      "text/plain": [
       "array([[1.0, 0.0, 0.0, 54.88135039273247, 31.03808259798114,\n",
       "        59.28802707811576],\n",
       "       [1.0, 0.0, 0.0, 71.51893663724195, 37.303486388074745,\n",
       "        1.006369565609333],\n",
       "       [0.0, 0.0, 1.0, 60.276337607164386, 52.49704422542643,\n",
       "        47.58261958572228],\n",
       "       ...,\n",
       "       [0.0, 1.0, 0.0, 40.17135353795987, 93.84120216943856,\n",
       "        11.224999258738599],\n",
       "       [0.0, 0.0, 1.0, 24.8413465082971, 22.864655098294552,\n",
       "        4.236404709144326],\n",
       "       [0.0, 1.0, 0.0, 50.586638382530836, 67.71411441114242,\n",
       "        22.774099334728646]], dtype=object)"
      ]
     },
     "execution_count": 31,
     "metadata": {},
     "output_type": "execute_result"
    }
   ],
   "source": [
    "X"
   ]
  },
  {
   "cell_type": "markdown",
   "metadata": {
    "id": "i3rLwZizaUJM"
   },
   "source": [
    "# Split into Train/Test sets"
   ]
  },
  {
   "cell_type": "code",
   "execution_count": 32,
   "metadata": {
    "id": "DT4OiI9frFVV"
   },
   "outputs": [],
   "source": [
    "# Split dataset into test/train\n",
    "X_train, X_test, y_train, y_test = train_test_split(X, y, test_size = 0.2, random_state = 0)"
   ]
  },
  {
   "cell_type": "markdown",
   "metadata": {
    "id": "y0lbhVTFbAoB"
   },
   "source": [
    "# Train model"
   ]
  },
  {
   "cell_type": "code",
   "execution_count": 33,
   "metadata": {
    "colab": {
     "base_uri": "https://localhost:8080/"
    },
    "id": "A9PtRZ3wwJJo",
    "outputId": "8c6e1489-f879-4e06-ea81-bc98328a296f"
   },
   "outputs": [
    {
     "data": {
      "text/plain": [
       "LinearRegression()"
      ]
     },
     "execution_count": 33,
     "metadata": {},
     "output_type": "execute_result"
    }
   ],
   "source": [
    "# Train multiple regression model\n",
    "regressor = LinearRegression()\n",
    "regressor.fit(X_train, y_train)"
   ]
  },
  {
   "cell_type": "markdown",
   "metadata": {
    "id": "nstDGCHibEkK"
   },
   "source": [
    "# Predict results"
   ]
  },
  {
   "cell_type": "code",
   "execution_count": 34,
   "metadata": {
    "id": "R-d3Cu3OGNAa"
   },
   "outputs": [],
   "source": [
    "# Predict result\n",
    "y_pred = regressor.predict(X_test)"
   ]
  },
  {
   "cell_type": "markdown",
   "metadata": {
    "id": "IFd8ySIcbQjB"
   },
   "source": [
    "# Compare predictions"
   ]
  },
  {
   "cell_type": "code",
   "execution_count": 35,
   "metadata": {
    "colab": {
     "base_uri": "https://localhost:8080/"
    },
    "id": "pRfxkKncbOni",
    "outputId": "281023af-c4dd-41dc-f834-9d6a4a579aad"
   },
   "outputs": [
    {
     "data": {
      "text/plain": [
       "array([[ 538.1 ,  791.  ],\n",
       "       [ 760.8 ,  602.9 ],\n",
       "       [ 310.41,  346.87],\n",
       "       [ 307.34,  408.12],\n",
       "       [ 713.68,  726.45],\n",
       "       [ 416.56,  349.23],\n",
       "       [ 587.5 ,  534.83],\n",
       "       [ 661.82,  786.19],\n",
       "       [ 592.35,  609.97],\n",
       "       [ 473.41,  470.37],\n",
       "       [ 425.89,  322.08],\n",
       "       [ 567.26,  603.6 ],\n",
       "       [ 229.72,  232.38],\n",
       "       [ 488.69,  445.45],\n",
       "       [ 303.05,  228.15],\n",
       "       [ 588.42,  577.39],\n",
       "       [ 692.39,  764.37],\n",
       "       [ 599.62,  444.79],\n",
       "       [ 642.12,  704.19],\n",
       "       [ 632.12,  716.78],\n",
       "       [ 197.46,  119.19],\n",
       "       [ 764.36,  808.49],\n",
       "       [ 544.11,  504.02],\n",
       "       [ 462.  ,  464.73],\n",
       "       [ 493.78,  575.97],\n",
       "       [ 787.25,  860.11],\n",
       "       [ 729.8 ,  613.75],\n",
       "       [ 379.01,  517.52],\n",
       "       [ 410.61,  192.93],\n",
       "       [ 232.77,  212.52],\n",
       "       [ 838.08,  839.33],\n",
       "       [ 894.17,  933.06],\n",
       "       [ 749.21,  740.99],\n",
       "       [ 443.84,  534.07],\n",
       "       [ 280.52,  255.64],\n",
       "       [ 648.39,  488.71],\n",
       "       [ 296.89,  354.4 ],\n",
       "       [ 987.59, 1151.79],\n",
       "       [ 768.1 ,  929.3 ],\n",
       "       [ 221.53,  121.46],\n",
       "       [ 182.47,   77.05],\n",
       "       [ 579.26,  629.25],\n",
       "       [ 682.91,  657.43],\n",
       "       [1086.  , 1160.15],\n",
       "       [ 285.48,  292.55],\n",
       "       [ 493.43,  431.4 ],\n",
       "       [ 291.77,  510.12],\n",
       "       [ 855.15,  760.22],\n",
       "       [ 375.37,  624.3 ],\n",
       "       [ 694.7 ,  679.39],\n",
       "       [ 550.76,  548.68],\n",
       "       [ 492.86,  584.98],\n",
       "       [ 643.66,  557.39],\n",
       "       [ 557.19,  645.85],\n",
       "       [ 551.28,  421.42],\n",
       "       [ 638.24,  609.03],\n",
       "       [ 650.04,  652.66],\n",
       "       [ 243.17,  274.03],\n",
       "       [ 574.88,  506.21],\n",
       "       [ 526.84,  445.05],\n",
       "       [ 529.75,  484.89],\n",
       "       [ 918.22,  962.48],\n",
       "       [ 454.01,  471.93],\n",
       "       [ 607.06,  565.4 ],\n",
       "       [ 693.79,  759.3 ],\n",
       "       [ 432.73,  526.28],\n",
       "       [ 647.37,  905.3 ],\n",
       "       [ 712.68,  652.8 ],\n",
       "       [ 542.53,  517.81],\n",
       "       [ 169.12,  122.23],\n",
       "       [ 617.33,  693.17],\n",
       "       [ 513.97,  455.34],\n",
       "       [ 426.67,  460.72],\n",
       "       [ 609.01,  655.83],\n",
       "       [ 588.85,  449.62],\n",
       "       [ 462.83,  511.7 ],\n",
       "       [ 969.73,  817.34],\n",
       "       [ 508.11,  401.75],\n",
       "       [ 653.  ,  734.37],\n",
       "       [ 718.6 ,  771.17],\n",
       "       [ 788.23,  816.01],\n",
       "       [ 590.25,  608.65],\n",
       "       [ 616.86,  460.06],\n",
       "       [ 867.3 , 1038.47],\n",
       "       [ 408.89,  440.39],\n",
       "       [ 766.91,  724.59],\n",
       "       [ 702.03,  610.73],\n",
       "       [ 629.28,  804.73],\n",
       "       [ 554.8 ,  354.22],\n",
       "       [ 640.45,  675.93],\n",
       "       [ 918.3 , 1033.86],\n",
       "       [ 187.13,  275.55],\n",
       "       [ 624.44,  664.79],\n",
       "       [ 401.39,  253.23],\n",
       "       [ 190.86,  315.45],\n",
       "       [ 888.73,  937.33],\n",
       "       [ 518.04,  519.28],\n",
       "       [ 417.89,  398.23],\n",
       "       [ 548.23,  409.81],\n",
       "       [ 330.8 ,  453.47]])"
      ]
     },
     "execution_count": 35,
     "metadata": {},
     "output_type": "execute_result"
    }
   ],
   "source": [
    "# Compare predicted result with actual value\n",
    "np.set_printoptions(precision = 2)\n",
    "result = np.concatenate((y_pred.reshape(len(y_pred), 1), y_test.reshape(len(y_test), 1)), 1)\n",
    "result"
   ]
  },
  {
   "cell_type": "code",
   "execution_count": 37,
   "metadata": {},
   "outputs": [
    {
     "name": "stdout",
     "output_type": "stream",
     "text": [
      "Mean Squared Error: 9900.8894528891\n",
      "R-squared: 0.8070665720988646\n"
     ]
    }
   ],
   "source": [
    "# Model evaluation\n",
    "from sklearn.metrics import mean_squared_error, r2_score\n",
    "\n",
    "mse = mean_squared_error(y_test, y_pred)\n",
    "r2 = r2_score(y_test, y_pred)\n",
    "print(f'Mean Squared Error: {mse}')\n",
    "print(f'R-squared: {r2}')"
   ]
  },
  {
   "cell_type": "code",
   "execution_count": null,
   "metadata": {},
   "outputs": [],
   "source": []
  }
 ],
 "metadata": {
  "colab": {
   "authorship_tag": "ABX9TyOGjCbuBpijZ1QQMfkQz0vx",
   "provenance": [],
   "toc_visible": true
  },
  "kernelspec": {
   "display_name": "Python 3 (ipykernel)",
   "language": "python",
   "name": "python3"
  },
  "language_info": {
   "codemirror_mode": {
    "name": "ipython",
    "version": 3
   },
   "file_extension": ".py",
   "mimetype": "text/x-python",
   "name": "python",
   "nbconvert_exporter": "python",
   "pygments_lexer": "ipython3",
   "version": "3.9.13"
  }
 },
 "nbformat": 4,
 "nbformat_minor": 1
}
